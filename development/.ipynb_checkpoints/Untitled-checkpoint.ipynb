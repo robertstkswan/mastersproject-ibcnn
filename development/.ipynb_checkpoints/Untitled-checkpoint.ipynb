{
 "cells": [
  {
   "cell_type": "code",
   "execution_count": 37,
   "metadata": {},
   "outputs": [],
   "source": [
    "import numpy\n",
    "import pandas\n",
    "from keras.models import Sequential\n",
    "from keras.layers import Dense\n",
    "from keras.wrappers.scikit_learn import KerasClassifier\n",
    "from keras.utils import np_utils\n",
    "from sklearn.model_selection import cross_val_score\n",
    "from sklearn.model_selection import KFold\n",
    "from sklearn.preprocessing import LabelEncoder\n",
    "from sklearn.pipeline import Pipeline\n",
    "from matplotlib import pyplot as plt"
   ]
  },
  {
   "cell_type": "code",
   "execution_count": 26,
   "metadata": {},
   "outputs": [],
   "source": [
    "# fix random seed for reproducibility\n",
    "seed = 9\n",
    "numpy.random.seed(seed)"
   ]
  },
  {
   "cell_type": "code",
   "execution_count": 27,
   "metadata": {},
   "outputs": [],
   "source": [
    "# load dataset\n",
    "dataframe = pandas.read_csv(\"iris.data\", header=None)\n",
    "dataset = dataframe.values\n",
    "X = dataset[:,0:4].astype(float)\n",
    "Y = dataset[:,4]"
   ]
  },
  {
   "cell_type": "code",
   "execution_count": 28,
   "metadata": {},
   "outputs": [],
   "source": [
    "# encode class values as integers\n",
    "encoder = LabelEncoder()\n",
    "encoder.fit(Y)\n",
    "encoded_Y = encoder.transform(Y)\n",
    "# convert integers to dummy variables (i.e. one hot encoded)\n",
    "dummy_y = np_utils.to_categorical(encoded_Y)"
   ]
  },
  {
   "cell_type": "code",
   "execution_count": 48,
   "metadata": {},
   "outputs": [
    {
     "name": "stdout",
     "output_type": "stream",
     "text": [
      "Epoch 1/100\n",
      "150/150 [==============================] - 2s 11ms/step - loss: 1.1658 - acc: 0.2533\n",
      "Epoch 2/100\n",
      "150/150 [==============================] - 0s 133us/step - loss: 1.1500 - acc: 0.1867\n",
      "Epoch 3/100\n",
      "150/150 [==============================] - 0s 160us/step - loss: 1.1323 - acc: 0.1733\n",
      "Epoch 4/100\n",
      "150/150 [==============================] - 0s 180us/step - loss: 1.1170 - acc: 0.2533\n",
      "Epoch 5/100\n",
      "150/150 [==============================] - 0s 93us/step - loss: 1.1024 - acc: 0.3133\n",
      "Epoch 6/100\n",
      "150/150 [==============================] - 0s 113us/step - loss: 1.0925 - acc: 0.3400\n",
      "Epoch 7/100\n",
      "150/150 [==============================] - 0s 133us/step - loss: 1.0866 - acc: 0.3333\n",
      "Epoch 8/100\n",
      "150/150 [==============================] - 0s 173us/step - loss: 1.0819 - acc: 0.3267\n",
      "Epoch 9/100\n",
      "150/150 [==============================] - 0s 173us/step - loss: 1.0782 - acc: 0.3400\n",
      "Epoch 10/100\n",
      "150/150 [==============================] - 0s 127us/step - loss: 1.0742 - acc: 0.3467\n",
      "Epoch 11/100\n",
      "150/150 [==============================] - 0s 160us/step - loss: 1.0713 - acc: 0.3600\n",
      "Epoch 12/100\n",
      "150/150 [==============================] - 0s 819us/step - loss: 1.0681 - acc: 0.3733\n",
      "Epoch 13/100\n",
      "150/150 [==============================] - 0s 104us/step - loss: 1.0650 - acc: 0.3733\n",
      "Epoch 14/100\n",
      "150/150 [==============================] - 0s 111us/step - loss: 1.0620 - acc: 0.3800\n",
      "Epoch 15/100\n",
      "150/150 [==============================] - 0s 93us/step - loss: 1.0589 - acc: 0.3933\n",
      "Epoch 16/100\n",
      "150/150 [==============================] - 0s 140us/step - loss: 1.0558 - acc: 0.3867\n",
      "Epoch 17/100\n",
      "150/150 [==============================] - 0s 133us/step - loss: 1.0527 - acc: 0.3933\n",
      "Epoch 18/100\n",
      "150/150 [==============================] - 0s 127us/step - loss: 1.0496 - acc: 0.4067\n",
      "Epoch 19/100\n",
      "150/150 [==============================] - 0s 167us/step - loss: 1.0475 - acc: 0.3733\n",
      "Epoch 20/100\n",
      "150/150 [==============================] - 0s 180us/step - loss: 1.0433 - acc: 0.3800\n",
      "Epoch 21/100\n",
      "150/150 [==============================] - 0s 173us/step - loss: 1.0403 - acc: 0.3867\n",
      "Epoch 22/100\n",
      "150/150 [==============================] - 0s 147us/step - loss: 1.0375 - acc: 0.3800\n",
      "Epoch 23/100\n",
      "150/150 [==============================] - 0s 120us/step - loss: 1.0340 - acc: 0.3867\n",
      "Epoch 24/100\n",
      "150/150 [==============================] - 0s 127us/step - loss: 1.0309 - acc: 0.3733\n",
      "Epoch 25/100\n",
      "150/150 [==============================] - 0s 133us/step - loss: 1.0278 - acc: 0.3733\n",
      "Epoch 26/100\n",
      "150/150 [==============================] - 0s 160us/step - loss: 1.0243 - acc: 0.3733\n",
      "Epoch 27/100\n",
      "150/150 [==============================] - 0s 160us/step - loss: 1.0207 - acc: 0.3733\n",
      "Epoch 28/100\n",
      "150/150 [==============================] - 0s 153us/step - loss: 1.0171 - acc: 0.3800\n",
      "Epoch 29/100\n",
      "150/150 [==============================] - 0s 153us/step - loss: 1.0135 - acc: 0.3933\n",
      "Epoch 30/100\n",
      "150/150 [==============================] - 0s 167us/step - loss: 1.0098 - acc: 0.4067\n",
      "Epoch 31/100\n",
      "150/150 [==============================] - 0s 127us/step - loss: 1.0060 - acc: 0.4067\n",
      "Epoch 32/100\n",
      "150/150 [==============================] - 0s 153us/step - loss: 1.0020 - acc: 0.4200\n",
      "Epoch 33/100\n",
      "150/150 [==============================] - 0s 147us/step - loss: 0.9978 - acc: 0.4200\n",
      "Epoch 34/100\n",
      "150/150 [==============================] - 0s 167us/step - loss: 0.9934 - acc: 0.4133\n",
      "Epoch 35/100\n",
      "150/150 [==============================] - 0s 120us/step - loss: 0.9889 - acc: 0.4000\n",
      "Epoch 36/100\n",
      "150/150 [==============================] - 0s 147us/step - loss: 0.9846 - acc: 0.3733\n",
      "Epoch 37/100\n",
      "150/150 [==============================] - 0s 153us/step - loss: 0.9799 - acc: 0.3667\n",
      "Epoch 38/100\n",
      "150/150 [==============================] - 0s 107us/step - loss: 0.9751 - acc: 0.3667\n",
      "Epoch 39/100\n",
      "150/150 [==============================] - 0s 127us/step - loss: 0.9700 - acc: 0.3667\n",
      "Epoch 40/100\n",
      "150/150 [==============================] - 0s 200us/step - loss: 0.9648 - acc: 0.3733\n",
      "Epoch 41/100\n",
      "150/150 [==============================] - 0s 133us/step - loss: 0.9595 - acc: 0.3867\n",
      "Epoch 42/100\n",
      "150/150 [==============================] - 0s 120us/step - loss: 0.9542 - acc: 0.4000\n",
      "Epoch 43/100\n",
      "150/150 [==============================] - 0s 133us/step - loss: 0.9480 - acc: 0.4000\n",
      "Epoch 44/100\n",
      "150/150 [==============================] - 0s 93us/step - loss: 0.9423 - acc: 0.4333\n",
      "Epoch 45/100\n",
      "150/150 [==============================] - 0s 120us/step - loss: 0.9362 - acc: 0.4533\n",
      "Epoch 46/100\n",
      "150/150 [==============================] - 0s 120us/step - loss: 0.9303 - acc: 0.4600\n",
      "Epoch 47/100\n",
      "150/150 [==============================] - 0s 113us/step - loss: 0.9236 - acc: 0.4600\n",
      "Epoch 48/100\n",
      "150/150 [==============================] - 0s 133us/step - loss: 0.9169 - acc: 0.4600\n",
      "Epoch 49/100\n",
      "150/150 [==============================] - 0s 107us/step - loss: 0.9101 - acc: 0.4533\n",
      "Epoch 50/100\n",
      "150/150 [==============================] - 0s 153us/step - loss: 0.9032 - acc: 0.4533\n",
      "Epoch 51/100\n",
      "150/150 [==============================] - 0s 107us/step - loss: 0.8962 - acc: 0.4733\n",
      "Epoch 52/100\n",
      "150/150 [==============================] - 0s 153us/step - loss: 0.8886 - acc: 0.4733\n",
      "Epoch 53/100\n",
      "150/150 [==============================] - 0s 120us/step - loss: 0.8812 - acc: 0.4733\n",
      "Epoch 54/100\n",
      "150/150 [==============================] - 0s 200us/step - loss: 0.8736 - acc: 0.4800\n",
      "Epoch 55/100\n",
      "150/150 [==============================] - 0s 113us/step - loss: 0.8660 - acc: 0.4800\n",
      "Epoch 56/100\n",
      "150/150 [==============================] - 0s 140us/step - loss: 0.8586 - acc: 0.5133\n",
      "Epoch 57/100\n",
      "150/150 [==============================] - 0s 93us/step - loss: 0.8499 - acc: 0.5933\n",
      "Epoch 58/100\n",
      "150/150 [==============================] - 0s 93us/step - loss: 0.8420 - acc: 0.6333\n",
      "Epoch 59/100\n",
      "150/150 [==============================] - 0s 80us/step - loss: 0.8336 - acc: 0.7067\n",
      "Epoch 60/100\n",
      "150/150 [==============================] - 0s 120us/step - loss: 0.8260 - acc: 0.7400\n",
      "Epoch 61/100\n",
      "150/150 [==============================] - 0s 127us/step - loss: 0.8173 - acc: 0.7733\n",
      "Epoch 62/100\n",
      "150/150 [==============================] - 0s 107us/step - loss: 0.8081 - acc: 0.7800\n",
      "Epoch 63/100\n",
      "150/150 [==============================] - 0s 120us/step - loss: 0.8000 - acc: 0.8000\n",
      "Epoch 64/100\n",
      "150/150 [==============================] - 0s 100us/step - loss: 0.7910 - acc: 0.8067\n",
      "Epoch 65/100\n",
      "150/150 [==============================] - 0s 100us/step - loss: 0.7825 - acc: 0.8133\n",
      "Epoch 66/100\n",
      "150/150 [==============================] - 0s 113us/step - loss: 0.7738 - acc: 0.8133\n",
      "Epoch 67/100\n",
      "150/150 [==============================] - 0s 107us/step - loss: 0.7650 - acc: 0.8133\n",
      "Epoch 68/100\n",
      "150/150 [==============================] - 0s 133us/step - loss: 0.7564 - acc: 0.8133\n",
      "Epoch 69/100\n",
      "150/150 [==============================] - 0s 127us/step - loss: 0.7480 - acc: 0.8133\n",
      "Epoch 70/100\n",
      "150/150 [==============================] - 0s 93us/step - loss: 0.7397 - acc: 0.8133\n",
      "Epoch 71/100\n",
      "150/150 [==============================] - 0s 100us/step - loss: 0.7314 - acc: 0.8267\n",
      "Epoch 72/100\n",
      "150/150 [==============================] - 0s 93us/step - loss: 0.7235 - acc: 0.8267\n",
      "Epoch 73/100\n",
      "150/150 [==============================] - 0s 87us/step - loss: 0.7157 - acc: 0.8267\n",
      "Epoch 74/100\n",
      "150/150 [==============================] - 0s 93us/step - loss: 0.7087 - acc: 0.8400\n",
      "Epoch 75/100\n",
      "150/150 [==============================] - 0s 107us/step - loss: 0.7004 - acc: 0.8733\n",
      "Epoch 76/100\n",
      "150/150 [==============================] - 0s 87us/step - loss: 0.6927 - acc: 0.8600\n",
      "Epoch 77/100\n",
      "150/150 [==============================] - 0s 93us/step - loss: 0.6855 - acc: 0.8600\n",
      "Epoch 78/100\n",
      "150/150 [==============================] - 0s 120us/step - loss: 0.6779 - acc: 0.8533\n",
      "Epoch 79/100\n",
      "150/150 [==============================] - 0s 93us/step - loss: 0.6708 - acc: 0.8333\n",
      "Epoch 80/100\n",
      "150/150 [==============================] - 0s 107us/step - loss: 0.6636 - acc: 0.8333\n",
      "Epoch 81/100\n",
      "150/150 [==============================] - 0s 120us/step - loss: 0.6570 - acc: 0.8467\n",
      "Epoch 82/100\n",
      "150/150 [==============================] - 0s 87us/step - loss: 0.6499 - acc: 0.8533\n",
      "Epoch 83/100\n",
      "150/150 [==============================] - 0s 107us/step - loss: 0.6429 - acc: 0.8467\n"
     ]
    },
    {
     "name": "stdout",
     "output_type": "stream",
     "text": [
      "Epoch 84/100\n",
      "150/150 [==============================] - 0s 107us/step - loss: 0.6365 - acc: 0.8667\n",
      "Epoch 85/100\n",
      "150/150 [==============================] - 0s 80us/step - loss: 0.6296 - acc: 0.8667\n",
      "Epoch 86/100\n",
      "150/150 [==============================] - 0s 100us/step - loss: 0.6229 - acc: 0.8667\n",
      "Epoch 87/100\n",
      "150/150 [==============================] - 0s 107us/step - loss: 0.6165 - acc: 0.8733\n",
      "Epoch 88/100\n",
      "150/150 [==============================] - 0s 147us/step - loss: 0.6103 - acc: 0.8733\n",
      "Epoch 89/100\n",
      "150/150 [==============================] - 0s 120us/step - loss: 0.6043 - acc: 0.8867\n",
      "Epoch 90/100\n",
      "150/150 [==============================] - 0s 213us/step - loss: 0.5976 - acc: 0.9000\n",
      "Epoch 91/100\n",
      "150/150 [==============================] - 0s 113us/step - loss: 0.5919 - acc: 0.8867\n",
      "Epoch 92/100\n",
      "150/150 [==============================] - 0s 153us/step - loss: 0.5857 - acc: 0.8867\n",
      "Epoch 93/100\n",
      "150/150 [==============================] - 0s 127us/step - loss: 0.5797 - acc: 0.8933\n",
      "Epoch 94/100\n",
      "150/150 [==============================] - 0s 167us/step - loss: 0.5741 - acc: 0.8933\n",
      "Epoch 95/100\n",
      "150/150 [==============================] - 0s 133us/step - loss: 0.5683 - acc: 0.9000\n",
      "Epoch 96/100\n",
      "150/150 [==============================] - 0s 160us/step - loss: 0.5627 - acc: 0.9000\n",
      "Epoch 97/100\n",
      "150/150 [==============================] - 0s 140us/step - loss: 0.5576 - acc: 0.9067\n",
      "Epoch 98/100\n",
      "150/150 [==============================] - 0s 113us/step - loss: 0.5518 - acc: 0.9200\n",
      "Epoch 99/100\n",
      "150/150 [==============================] - 0s 120us/step - loss: 0.5465 - acc: 0.9200\n",
      "Epoch 100/100\n",
      "150/150 [==============================] - 0s 107us/step - loss: 0.5416 - acc: 0.9200\n"
     ]
    }
   ],
   "source": [
    "# define baseline model\n",
    "model = Sequential()\n",
    "model.add(Dense(8, input_dim=4, activation='relu'))\n",
    "model.add(Dense(3, activation='softmax'))\n",
    "# Compile model\n",
    "model.compile(loss='categorical_crossentropy', optimizer='adam', metrics=['accuracy'])\n",
    "#fit model\n",
    "history = model.fit(X, dummy_y, epochs=100, batch_size=32)"
   ]
  },
  {
   "cell_type": "code",
   "execution_count": 49,
   "metadata": {},
   "outputs": [
    {
     "data": {
      "text/plain": [
       "[[<matplotlib.lines.Line2D at 0x2d5dd518>],\n",
       " [<matplotlib.lines.Line2D at 0x2d5dd908>]]"
      ]
     },
     "execution_count": 49,
     "metadata": {},
     "output_type": "execute_result"
    },
    {
     "data": {
      "image/png": "[encoded data removed]",
      "text/plain": [
       "<Figure size 432x288 with 1 Axes>"
      ]
     },
     "metadata": {
      "needs_background": "light"
     },
     "output_type": "display_data"
    }
   ],
   "source": [
    "history.history\n",
    "[plt.plot(history.history[i]) for i in history.history]"
   ]
  },
  {
   "cell_type": "code",
   "execution_count": 42,
   "metadata": {},
   "outputs": [
    {
     "data": {
      "text/plain": [
       "[<matplotlib.lines.Line2D at 0x2d0ce908>]"
      ]
     },
     "execution_count": 42,
     "metadata": {},
     "output_type": "execute_result"
    },
    {
     "data": {
      "image/png": "[encoded data removed]",
      "text/plain": [
       "<Figure size 432x288 with 1 Axes>"
      ]
     },
     "metadata": {
      "needs_background": "light"
     },
     "output_type": "display_data"
    }
   ],
   "source": [
    "plt.plot(history.history['loss'])"
   ]
  }
 ],
 "metadata": {
  "kernelspec": {
   "display_name": "Python 3",
   "language": "python",
   "name": "python3"
  },
  "language_info": {
   "codemirror_mode": {
    "name": "ipython",
    "version": 3
   },
   "file_extension": ".py",
   "mimetype": "text/x-python",
   "name": "python",
   "nbconvert_exporter": "python",
   "pygments_lexer": "ipython3",
   "version": "3.7.3"
  }
 },
 "nbformat": 4,
 "nbformat_minor": 2
}
