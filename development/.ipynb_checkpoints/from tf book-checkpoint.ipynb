{
 "cells": [
  {
   "cell_type": "code",
   "execution_count": 1,
   "metadata": {},
   "outputs": [
    {
     "data": {
      "image/png": "[encoded data removed]",
      "text/plain": [
       "<Figure size 432x288 with 1 Axes>"
      ]
     },
     "metadata": {
      "needs_background": "light"
     },
     "output_type": "display_data"
    }
   ],
   "source": [
    "%matplotlib inline\n",
    "import matplotlib.pyplot as plt\n",
    "plt.plot([1,2,3],[1,4,9])\n",
    "plt.show()"
   ]
  },
  {
   "cell_type": "code",
   "execution_count": 2,
   "metadata": {},
   "outputs": [],
   "source": [
    "import numpy as np\n",
    "np.random.seed(456)\n",
    "import  tensorflow as tf\n",
    "tf.set_random_seed(456)\n",
    "from scipy.stats import pearsonr\n",
    "from sklearn.metrics import mean_squared_error"
   ]
  },
  {
   "cell_type": "code",
   "execution_count": 3,
   "metadata": {},
   "outputs": [],
   "source": [
    "# Generate synthetic data\n",
    "N = 100\n",
    "w_true = 5\n",
    "b_true = 2\n",
    "noise_scale = .1\n",
    "x_np = np.float32(np.random.rand(N, 1))\n",
    "noise = np.random.normal(scale=noise_scale, size=(N, 1))\n",
    "# Convert shape of y_np to (N,)\n",
    "y_np = np.float32(np.reshape(w_true * x_np  + b_true + noise, (-1)))"
   ]
  },
  {
   "cell_type": "code",
   "execution_count": 4,
   "metadata": {},
   "outputs": [
    {
     "data": {
      "text/plain": [
       "(100, 1)"
      ]
     },
     "execution_count": 4,
     "metadata": {},
     "output_type": "execute_result"
    }
   ],
   "source": [
    "x_np.shape"
   ]
  },
  {
   "cell_type": "code",
   "execution_count": 5,
   "metadata": {},
   "outputs": [
    {
     "data": {
      "text/plain": [
       "(100,)"
      ]
     },
     "execution_count": 5,
     "metadata": {},
     "output_type": "execute_result"
    }
   ],
   "source": [
    "y_np.shape "
   ]
  },
  {
   "cell_type": "code",
   "execution_count": 6,
   "metadata": {},
   "outputs": [
    {
     "data": {
      "image/png": "[encoded data removed]",
      "text/plain": [
       "<Figure size 432x288 with 1 Axes>"
      ]
     },
     "metadata": {
      "needs_background": "light"
     },
     "output_type": "display_data"
    }
   ],
   "source": [
    "# Save image of the data distribution\n",
    "plt.scatter(x_np, y_np)\n",
    "plt.xlabel(\"x\")\n",
    "plt.ylabel(\"y\")\n",
    "plt.xlim(0, 1)\n",
    "plt.title(\"Toy Linear Regression Data, \"\n",
    "          r\"$y = 5x + 2 + N(0, 1)$\")\n",
    "plt.show()"
   ]
  },
  {
   "cell_type": "code",
   "execution_count": 7,
   "metadata": {},
   "outputs": [
    {
     "name": "stdout",
     "output_type": "stream",
     "text": [
      "WARNING:tensorflow:From C:\\Users\\Student\\Anaconda3\\lib\\site-packages\\tensorflow\\python\\framework\\op_def_library.py:263: colocate_with (from tensorflow.python.framework.ops) is deprecated and will be removed in a future version.\n",
      "Instructions for updating:\n",
      "Colocations handled automatically by placer.\n"
     ]
    }
   ],
   "source": [
    "# Generate tensorflow graph\n",
    "with tf.name_scope(\"placeholders\"):\n",
    "  x = tf.placeholder(tf.float32, (N, 1))\n",
    "  y = tf.placeholder(tf.float32, (N,))\n",
    "with tf.name_scope(\"weights\"):\n",
    "  W = tf.Variable(tf.random_normal((1, 1)))\n",
    "  b = tf.Variable(tf.random_normal((1,)))\n",
    "with tf.name_scope(\"prediction\"):\n",
    "  y_pred = tf.matmul(x, W) + b\n",
    "with tf.name_scope(\"loss\"):\n",
    "  l = tf.reduce_sum((y - tf.squeeze(y_pred))**2)\n",
    "with tf.name_scope(\"optim\"):\n",
    "  train_op = tf.train.AdamOptimizer(.001).minimize(l)"
   ]
  },
  {
   "cell_type": "code",
   "execution_count": 8,
   "metadata": {},
   "outputs": [],
   "source": [
    "grads = tf.gradients(l, tf.trainable_variables())"
   ]
  },
  {
   "cell_type": "code",
   "execution_count": 10,
   "metadata": {},
   "outputs": [
    {
     "name": "stdout",
     "output_type": "stream",
     "text": [
      "step 0, loss: 2621.653564\n",
      "w is [[0.21080315]] b is [-0.58812904] gradients is [array([[-561.50116]], dtype=float32), array([-986.24], dtype=float32)]\n",
      "w is [[0.21080315]] b is [-0.58812904] gradients is [array([[-561.50116]], dtype=float32), array([-986.24], dtype=float32)]\n",
      "step 1, loss: 2620.105225\n",
      "w is [[0.21180314]] b is [-0.58712906] gradients is [array([[-561.33887]], dtype=float32), array([-985.94214], dtype=float32)]\n",
      "w is [[0.21180314]] b is [-0.58712906] gradients is [array([[-561.33887]], dtype=float32), array([-985.94214], dtype=float32)]\n"
     ]
    }
   ],
   "source": [
    "n_steps = 1\n",
    "with tf.Session() as sess:\n",
    "    sess.run(tf.global_variables_initializer())\n",
    "    feed_dict = {x: x_np, y: y_np}\n",
    "    # Train model\n",
    "    for i in range(n_steps):\n",
    "        _, loss = sess.run([train_op, l], feed_dict=feed_dict)\n",
    "        print(\"step %d, loss: %f\" % (i, loss))\n",
    "        w_final, b_final, gradients = sess.run([W, b, grads], feed_dict=feed_dict)\n",
    "        print(\"w is\", w_final, \"b is\", b_final, \"gradients is\", gradients)\n",
    "        w_final, b_final, gradients = sess.run([W, b, grads], feed_dict=feed_dict)\n",
    "        print(\"w is\", w_final, \"b is\", b_final, \"gradients is\", gradients)\n",
    "    for i in range(n_steps, 2*n_steps):\n",
    "        _, loss = sess.run([train_op, l], feed_dict=feed_dict)\n",
    "        print(\"step %d, loss: %f\" % (i, loss))\n",
    "        w_final, b_final, gradients = sess.run([W, b, grads], feed_dict=feed_dict)\n",
    "        print(\"w is\", w_final, \"b is\", b_final, \"gradients is\", gradients)\n",
    "        w_final, b_final, gradients = sess.run([W, b, grads], feed_dict=feed_dict)\n",
    "        print(\"w is\", w_final, \"b is\", b_final, \"gradients is\", gradients)\n",
    "\n",
    "    \n",
    "    # Make Predictions\n",
    "    y_pred_np = sess.run(y_pred, feed_dict={x: x_np})"
   ]
  },
  {
   "cell_type": "code",
   "execution_count": null,
   "metadata": {},
   "outputs": [],
   "source": [
    "# Make Predictions\n",
    "y_pred_np = x_np*w_final + b_final\n",
    "y_pred_np = np.reshape(y_pred_np, -1)\n",
    "plt.plot(x_np, y_pred_np)\n",
    "plt.plot(x_np, y_np, 'o')\n",
    "plt.show()"
   ]
  }
 ],
 "metadata": {
  "kernelspec": {
   "display_name": "Python 3",
   "language": "python",
   "name": "python3"
  },
  "language_info": {
   "codemirror_mode": {
    "name": "ipython",
    "version": 3
   },
   "file_extension": ".py",
   "mimetype": "text/x-python",
   "name": "python",
   "nbconvert_exporter": "python",
   "pygments_lexer": "ipython3",
   "version": "3.7.3"
  }
 },
 "nbformat": 4,
 "nbformat_minor": 2
}
