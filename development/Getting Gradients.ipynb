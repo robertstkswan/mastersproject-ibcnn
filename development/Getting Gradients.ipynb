{
 "cells": [
  {
   "cell_type": "code",
   "execution_count": 1,
   "metadata": {},
   "outputs": [
    {
     "name": "stderr",
     "output_type": "stream",
     "text": [
      "Using TensorFlow backend.\n"
     ]
    }
   ],
   "source": [
    "%matplotlib inline\n",
    "from keras.callbacks import ModelCheckpoint\n",
    "from keras.models import Sequential\n",
    "from keras.layers import Dense, Activation, Flatten\n",
    "from keras import optimizers, losses, metrics\n",
    "from keras.utils import to_categorical\n",
    "import keras.backend as K\n",
    "import matplotlib.pyplot as plt\n",
    "import pandas as pd\n",
    "import numpy as np\n",
    "import warnings \n",
    "warnings.filterwarnings('ignore')\n",
    "warnings.filterwarnings('ignore', category=DeprecationWarning)"
   ]
  },
  {
   "cell_type": "code",
   "execution_count": 2,
   "metadata": {},
   "outputs": [],
   "source": [
    "from keras.datasets import boston_housing\n",
    "\n",
    "(x_train, y_train), (x_test, y_test) = boston_housing.load_data()"
   ]
  },
  {
   "cell_type": "code",
   "execution_count": 3,
   "metadata": {},
   "outputs": [],
   "source": [
    "from keras.datasets import mnist\n",
    "\n",
    "(x_train, y_train), (x_test, y_test) = mnist.load_data()"
   ]
  },
  {
   "cell_type": "code",
   "execution_count": 4,
   "metadata": {},
   "outputs": [],
   "source": [
    "num_classes = 10\n",
    "y_train = to_categorical(y_train, num_classes)\n",
    "y_test = to_categorical(y_test, num_classes)"
   ]
  },
  {
   "cell_type": "code",
   "execution_count": 5,
   "metadata": {},
   "outputs": [],
   "source": [
    "num_pixels = x_train.shape[1] * x_train.shape[2]\n",
    "x_train = x_train.reshape(x_train.shape[0], num_pixels).astype('float32')\n",
    "x_test = x_test.reshape(x_test.shape[0], num_pixels).astype('float32')"
   ]
  },
  {
   "cell_type": "code",
   "execution_count": 6,
   "metadata": {},
   "outputs": [
    {
     "data": {
      "text/plain": [
       "((60000, 784), (60000, 10))"
      ]
     },
     "execution_count": 6,
     "metadata": {},
     "output_type": "execute_result"
    }
   ],
   "source": [
    "x_train.shape, y_train.shape"
   ]
  },
  {
   "cell_type": "markdown",
   "metadata": {},
   "source": [
    "# Working Code"
   ]
  },
  {
   "cell_type": "code",
   "execution_count": 7,
   "metadata": {},
   "outputs": [],
   "source": [
    "# create model\n",
    "model = Sequential()\n",
    "#input\n",
    "model.add(Dense(500, activation='relu'))\n",
    "model.add(Dense(250, activation='relu'))\n",
    "model.add(Dense(50, activation='relu'))\n",
    "#prediction\n",
    "model.add(Dense(num_classes, activation='softmax'))"
   ]
  },
  {
   "cell_type": "code",
   "execution_count": 8,
   "metadata": {},
   "outputs": [
    {
     "name": "stdout",
     "output_type": "stream",
     "text": [
      "WARNING:tensorflow:From C:\\Users\\Student\\Anaconda3\\lib\\site-packages\\tensorflow\\python\\framework\\op_def_library.py:263: colocate_with (from tensorflow.python.framework.ops) is deprecated and will be removed in a future version.\n",
      "Instructions for updating:\n",
      "Colocations handled automatically by placer.\n"
     ]
    }
   ],
   "source": [
    "# Compile model\n",
    "sgd = optimizers.SGD(lr=0.01, decay=0.0, momentum=0.0, nesterov=False)\n",
    "model.compile(loss='categorical_crossentropy', optimizer='sgd', metrics=['accuracy'])"
   ]
  },
  {
   "cell_type": "code",
   "execution_count": 9,
   "metadata": {},
   "outputs": [
    {
     "name": "stdout",
     "output_type": "stream",
     "text": [
      "WARNING:tensorflow:From C:\\Users\\Student\\Anaconda3\\lib\\site-packages\\tensorflow\\python\\ops\\math_ops.py:3066: to_int32 (from tensorflow.python.ops.math_ops) is deprecated and will be removed in a future version.\n",
      "Instructions for updating:\n",
      "Use tf.cast instead.\n",
      "Train on 60000 samples, validate on 10000 samples\n",
      "Epoch 1/10\n",
      "60000/60000 [==============================] - 12s 196us/step - loss: 13.9434 - acc: 0.1090 - val_loss: 13.3940 - val_acc: 0.1520\n",
      "Epoch 2/10\n",
      "60000/60000 [==============================] - 3s 56us/step - loss: 13.4109 - acc: 0.1500 - val_loss: 13.6618 - val_acc: 0.1409\n",
      "Epoch 3/10\n",
      "60000/60000 [==============================] - 4s 68us/step - loss: 13.6567 - acc: 0.1407 - val_loss: 12.7207 - val_acc: 0.1946\n",
      "Epoch 4/10\n",
      "60000/60000 [==============================] - 4s 59us/step - loss: 12.7362 - acc: 0.1934 - val_loss: 12.3095 - val_acc: 0.2209\n",
      "Epoch 5/10\n",
      "60000/60000 [==============================] - 3s 58us/step - loss: 12.4026 - acc: 0.2157 - val_loss: 12.0105 - val_acc: 0.2383\n",
      "Epoch 6/10\n",
      "60000/60000 [==============================] - 3s 56us/step - loss: 11.9964 - acc: 0.2379 - val_loss: 11.5822 - val_acc: 0.2673\n",
      "Epoch 7/10\n",
      "60000/60000 [==============================] - 4s 65us/step - loss: 11.7407 - acc: 0.2570 - val_loss: 11.0721 - val_acc: 0.2899\n",
      "Epoch 8/10\n",
      "60000/60000 [==============================] - 3s 58us/step - loss: 11.1697 - acc: 0.2848 - val_loss: 9.6191 - val_acc: 0.3813\n",
      "Epoch 9/10\n",
      "60000/60000 [==============================] - 3s 57us/step - loss: 9.7002 - acc: 0.3748 - val_loss: 10.3771 - val_acc: 0.3381\n",
      "Epoch 10/10\n",
      "60000/60000 [==============================] - 4s 64us/step - loss: 10.4437 - acc: 0.3350 - val_loss: 9.1355 - val_acc: 0.3986\n"
     ]
    }
   ],
   "source": [
    "# Fit the model\n",
    "history = model.fit(x_train, y_train, epochs=10, batch_size=x_train.shape[0], verbose=1, validation_data=(x_test, y_test))"
   ]
  },
  {
   "cell_type": "code",
   "execution_count": 10,
   "metadata": {},
   "outputs": [
    {
     "data": {
      "text/plain": [
       "<matplotlib.legend.Legend at 0x1774e940>"
      ]
     },
     "execution_count": 10,
     "metadata": {},
     "output_type": "execute_result"
    },
    {
     "data": {
      "image/png": "[encoded data removed]",
      "text/plain": [
       "<Figure size 432x288 with 1 Axes>"
      ]
     },
     "metadata": {
      "needs_background": "light"
     },
     "output_type": "display_data"
    }
   ],
   "source": [
    "plt.plot(history.history['loss'], label='loss')\n",
    "plt.plot(history.history['val_loss'], label='val_loss')\n",
    "plt.legend()"
   ]
  },
  {
   "cell_type": "code",
   "execution_count": 11,
   "metadata": {},
   "outputs": [
    {
     "data": {
      "text/plain": [
       "<matplotlib.legend.Legend at 0x17855358>"
      ]
     },
     "execution_count": 11,
     "metadata": {},
     "output_type": "execute_result"
    },
    {
     "data": {
      "image/png": "[encoded data removed]",
      "text/plain": [
       "<Figure size 432x288 with 1 Axes>"
      ]
     },
     "metadata": {
      "needs_background": "light"
     },
     "output_type": "display_data"
    }
   ],
   "source": [
    "plt.plot(history.history['acc'], label='acc')\n",
    "plt.plot(history.history['val_acc'], label='val_acc')\n",
    "plt.legend()"
   ]
  },
  {
   "cell_type": "markdown",
   "metadata": {},
   "source": [
    "# Development"
   ]
  },
  {
   "cell_type": "code",
   "execution_count": 52,
   "metadata": {},
   "outputs": [],
   "source": [
    "import keras as keras\n",
    "\n",
    "class Gradients(keras.callbacks.Callback):\n",
    "    def __init__(self, x_train, y_train):\n",
    "        self.x_train = x_train  \n",
    "        self.y_train = y_train\n",
    "        \n",
    "    def on_train_begin(self, logs={}):\n",
    "        self._data = []\n",
    "        input_tensors = [self.model.inputs[0],\n",
    "                         self.model.sample_weights[0],\n",
    "                         self.model.targets[0],\n",
    "                         K.learning_phase()]\n",
    "        grads = K.gradients(self.model.total_loss, self.model.trainable_weights)\n",
    "        self.get_gradients = K.function(inputs=input_tensors, outputs=grads)\n",
    "\n",
    "    def on_batch_end(self, batch, logs={}):\n",
    "        inputs = [self.x_train,  \n",
    "                  [1,]*self.x_train.shape[0],      \n",
    "                  y_train,  \n",
    "                  1]    # Training phase\n",
    "        gradient = self.get_gradients(inputs)\n",
    "        self._data.append({'gradient': gradient})"
   ]
  },
  {
   "cell_type": "code",
   "execution_count": 59,
   "metadata": {},
   "outputs": [
    {
     "name": "stdout",
     "output_type": "stream",
     "text": [
      "Train on 60000 samples, validate on 10000 samples\n",
      "Epoch 1/1\n",
      "60000/60000 [==============================] - 2s 36us/step - loss: 4.4050 - acc: 0.1215 - val_loss: 2.3139 - val_acc: 0.1135\n",
      "dict_keys(['val_loss', 'val_acc', 'loss', 'acc'])\n"
     ]
    }
   ],
   "source": [
    "# create model\n",
    "model = Sequential()\n",
    "#input\n",
    "model.add(Dense(2, input_dim=x_train.shape[1], activation='relu'))\n",
    "#prediction\n",
    "model.add(Dense(num_classes, activation='softmax'))\n",
    "\n",
    "# Compile model\n",
    "sgd = optimizers.SGD(lr=0.01, decay=0.0, momentum=0.0, nesterov=False)\n",
    "model.compile(loss='categorical_crossentropy', optimizer='sgd', metrics=['accuracy'])\n",
    "\n",
    "gradients = Gradients(x_train, y_train)\n",
    "history = model.fit(x_train, y_train, callbacks=[gradients], epochs=1, batch_size=x_train.shape[0], verbose=1, validation_data=(x_test, y_test))\n",
    "print(history.history.keys())"
   ]
  },
  {
   "cell_type": "code",
   "execution_count": 60,
   "metadata": {},
   "outputs": [
    {
     "data": {
      "text/plain": [
       "[{'gradient': [array([[0., 0.],\n",
       "          [0., 0.],\n",
       "          [0., 0.],\n",
       "          ...,\n",
       "          [0., 0.],\n",
       "          [0., 0.],\n",
       "          [0., 0.]], dtype=float32),\n",
       "   array([0.00039531, 0.        ], dtype=float32),\n",
       "   array([[-8.9122467e-03,  8.9606347e-06, -8.8915753e-04, -1.2495000e-03,\n",
       "            1.9039799e-02, -2.1056272e-03, -5.7107589e-04, -1.2823051e-03,\n",
       "            7.6560109e-06, -4.0465025e-03],\n",
       "          [ 0.0000000e+00,  0.0000000e+00,  0.0000000e+00,  0.0000000e+00,\n",
       "            0.0000000e+00,  0.0000000e+00,  0.0000000e+00,  0.0000000e+00,\n",
       "            0.0000000e+00,  0.0000000e+00]], dtype=float32),\n",
       "   array([ 0.0011893 , -0.01249554,  0.00049303, -0.00229944,  0.00329607,\n",
       "           0.00974517,  0.00125554, -0.00434027,  0.00235399,  0.00079398],\n",
       "         dtype=float32)]}]"
      ]
     },
     "execution_count": 60,
     "metadata": {},
     "output_type": "execute_result"
    }
   ],
   "source": [
    "gradients._data"
   ]
  },
  {
   "cell_type": "code",
   "execution_count": 70,
   "metadata": {},
   "outputs": [
    {
     "name": "stdout",
     "output_type": "stream",
     "text": [
      "(784, 2)\n",
      "(2,)\n",
      "(2, 10)\n",
      "(10,)\n"
     ]
    }
   ],
   "source": [
    "for i in range(len(gradients._data[0]['gradient'])):\n",
    "    print(gradients._data[0]['gradient'][i].shape)"
   ]
  },
  {
   "cell_type": "code",
   "execution_count": null,
   "metadata": {},
   "outputs": [],
   "source": [
    "gradients._data[0]['gradient'][0].shape"
   ]
  },
  {
   "cell_type": "code",
   "execution_count": 12,
   "metadata": {},
   "outputs": [],
   "source": [
    "#grads = K.gradients(model.loss, model.trainable_weights)"
   ]
  },
  {
   "cell_type": "code",
   "execution_count": 17,
   "metadata": {},
   "outputs": [
    {
     "ename": "AttributeError",
     "evalue": "'Sequential' object has no attribute 'metrics_names'",
     "output_type": "error",
     "traceback": [
      "\u001b[1;31m---------------------------------------------------------------------------\u001b[0m",
      "\u001b[1;31mAttributeError\u001b[0m                            Traceback (most recent call last)",
      "\u001b[1;32m<ipython-input-17-df2fd7837e72>\u001b[0m in \u001b[0;36m<module>\u001b[1;34m\u001b[0m\n\u001b[0;32m     18\u001b[0m \u001b[1;33m\u001b[0m\u001b[0m\n\u001b[0;32m     19\u001b[0m \u001b[1;31m# Append the \"l2 norm of gradients\" tensor as a metric\u001b[0m\u001b[1;33m\u001b[0m\u001b[1;33m\u001b[0m\u001b[1;33m\u001b[0m\u001b[0m\n\u001b[1;32m---> 20\u001b[1;33m \u001b[0mmodel\u001b[0m\u001b[1;33m.\u001b[0m\u001b[0mmodel\u001b[0m\u001b[1;33m.\u001b[0m\u001b[0mmetrics_names\u001b[0m\u001b[1;33m.\u001b[0m\u001b[0mappend\u001b[0m\u001b[1;33m(\u001b[0m\u001b[1;34m\"gradient_norm\"\u001b[0m\u001b[1;33m)\u001b[0m\u001b[1;33m\u001b[0m\u001b[1;33m\u001b[0m\u001b[0m\n\u001b[0m\u001b[0;32m     21\u001b[0m \u001b[0mmodel\u001b[0m\u001b[1;33m.\u001b[0m\u001b[0mmetrics_tensors\u001b[0m\u001b[1;33m.\u001b[0m\u001b[0mappend\u001b[0m\u001b[1;33m(\u001b[0m\u001b[0mget_gradient_norm\u001b[0m\u001b[1;33m(\u001b[0m\u001b[0mmodel\u001b[0m\u001b[1;33m)\u001b[0m\u001b[1;33m)\u001b[0m\u001b[1;33m\u001b[0m\u001b[1;33m\u001b[0m\u001b[0m\n\u001b[0;32m     22\u001b[0m \u001b[1;33m\u001b[0m\u001b[0m\n",
      "\u001b[1;31mAttributeError\u001b[0m: 'Sequential' object has no attribute 'metrics_names'"
     ]
    }
   ],
   "source": [
    "import keras.backend as K\n",
    "\n",
    "# Get a \"l2 norm of gradients\" tensor\n",
    "def get_gradient_norm(model):\n",
    "    with K.name_scope('gradient_norm'):\n",
    "        grads = K.gradients(model.total_loss, model.trainable_weights)\n",
    "        norm = K.sqrt(sum([K.sum(K.square(g)) for g in grads]))\n",
    "    return norm\n",
    "\n",
    "# create model\n",
    "model = Sequential()\n",
    "#input\n",
    "model.add(Dense(500, activation='relu'))\n",
    "model.add(Dense(250, activation='relu'))\n",
    "model.add(Dense(50, activation='relu'))\n",
    "#prediction\n",
    "model.add(Dense(num_classes, activation='softmax'))\n",
    "\n",
    "# Append the \"l2 norm of gradients\" tensor as a metric\n",
    "model.model.metrics_names.append(\"gradient_norm\")\n",
    "model.metrics_tensors.append(get_gradient_norm(model))\n",
    "\n",
    "# Compile model\n",
    "sgd = optimizers.SGD(lr=0.01, decay=0.0, momentum=0.0, nesterov=False)\n",
    "model.compile(loss='categorical_crossentropy', optimizer='sgd', metrics=['accuracy', 'gradient_norm'])\n",
    "\n",
    "# You can compute the norm within the usual training routine\n",
    "history = model.fit(x_train, y_train, epochs=1, batch_size=x_train.shape[0], verbose=1, validation_data=(x_test, y_test))\n",
    "print(history.history.keys())\n",
    "print(history.history['gradient_norm'])"
   ]
  },
  {
   "cell_type": "code",
   "execution_count": null,
   "metadata": {},
   "outputs": [],
   "source": [
    "class Gradients(keras.callbacks.Callback):\n",
    "    def on_train_begin(self, logs={}):\n",
    "        # Indexes of the layers which we keep track of. Basically, this will be any layer\n",
    "        # which has a 'kernel' attribute, which is essentially the \"Dense\" or \"Dense\"-like layers\n",
    "        self.layerixs = []\n",
    "\n",
    "        # Functions return activity of each layer\n",
    "        self.layerfuncs = []\n",
    "\n",
    "        # Functions return weights of each layer\n",
    "        self.layerweights = []\n",
    "        for lndx, l in enumerate(self.model.layers):\n",
    "            if hasattr(l, 'kernel'):\n",
    "                self.layerixs.append(lndx)\n",
    "                self.layerfuncs.append(K.function(self.model.inputs, [l.output,]))\n",
    "                self.layerweights.append(l.kernel)\n",
    "\n",
    "        input_tensors = [self.model.inputs[0],\n",
    "                         self.model.sample_weights[0],\n",
    "                         self.model.targets[0],\n",
    "                         K.learning_phase()]\n",
    "        \n",
    "        # Get gradients of all the relevant layers at once\n",
    "        grads = self.model.optimizer.get_gradients(self.model.total_loss, self.layerweights)\n",
    "        self.get_gradients = K.function(inputs=input_tensors,\n",
    "                                        outputs=grads)\n",
    "\n",
    "        # Get cross-entropy loss\n",
    "        self.get_loss = K.function(inputs=input_tensors, outputs=[self.model.total_loss,])\n",
    "\n",
    "\n",
    "    def on_batch_begin(self, batch, logs={}):\n",
    "        for lndx, g in enumerate(self.get_gradients(inputs)):\n",
    "            # g is gradients for weights of lndx's layer\n",
    "            self._batch_gradients[lndx].append(g)\n",
    "\n",
    "\n",
    "    def on_epoch_end(self, epoch, logs={}):\n",
    "\n",
    "        data = {\n",
    "            'gradmean'     : [],   # Mean of gradients\n",
    "            'gradstd'      : [],   # Std of gradients\n",
    "        }\n",
    "\n",
    "        for lndx, layerix in enumerate(self.layerixs):\n",
    "            clayer = self.model.layers[layerix]\n",
    "\n",
    "            stackedgrads = np.stack(self._batch_gradients[lndx], axis=1)\n",
    "            data['gradmean'    ].append( np.linalg.norm(stackedgrads.mean(axis=1)) )\n",
    "            data['gradstd'     ].append( np.linalg.norm(stackedgrads.std(axis=1)) )"
   ]
  },
  {
   "cell_type": "code",
   "execution_count": null,
   "metadata": {},
   "outputs": [],
   "source": [
    "gradients = model.optimizer.get_gradients(model.model.total_loss, weights)"
   ]
  },
  {
   "cell_type": "code",
   "execution_count": null,
   "metadata": {},
   "outputs": [],
   "source": [
    "weights = model.trainable_weights # weight tensors\n",
    "gradients = model.optimizer.get_gradients(model.total_loss, weights) # gradient tensors\n",
    "\n",
    "print(weights)"
   ]
  },
  {
   "cell_type": "code",
   "execution_count": null,
   "metadata": {},
   "outputs": [],
   "source": [
    "import keras.backend as K\n",
    "\n",
    "input_tensors = [model.inputs[0], # input data\n",
    "                 model.sample_weights[0], # how much to weight each sample by\n",
    "                 model.targets[0], # labels\n",
    "                 K.learning_phase(), # train or test mode\n",
    "]\n",
    "\n",
    "get_gradients = K.function(inputs=input_tensors, outputs=gradients)"
   ]
  },
  {
   "cell_type": "code",
   "execution_count": null,
   "metadata": {},
   "outputs": [],
   "source": [
    "from keras.utils.np_utils import to_categorical\n",
    "\n",
    "inputs = [[[1, 2]], # X\n",
    "          [1], # sample weights\n",
    "          [[1]], # y\n",
    "          0 # learning phase in TEST mode\n",
    "]\n",
    "\n",
    "print(zip(weights, get_gradients(inputs)))"
   ]
  }
 ],
 "metadata": {
  "kernelspec": {
   "display_name": "Python 3",
   "language": "python",
   "name": "python3"
  },
  "language_info": {
   "codemirror_mode": {
    "name": "ipython",
    "version": 3
   },
   "file_extension": ".py",
   "mimetype": "text/x-python",
   "name": "python",
   "nbconvert_exporter": "python",
   "pygments_lexer": "ipython3",
   "version": "3.7.3"
  }
 },
 "nbformat": 4,
 "nbformat_minor": 2
}
