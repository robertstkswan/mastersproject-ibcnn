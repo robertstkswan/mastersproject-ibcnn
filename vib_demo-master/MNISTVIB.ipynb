{
 "cells": [
  {
   "cell_type": "markdown",
   "metadata": {},
   "source": [
    "# MNIST VIB Example\n",
    "\n",
    "Here I demonstrate the Variational Information Bottleneck method on the MNIST dataset."
   ]
  },
  {
   "cell_type": "code",
   "execution_count": null,
   "metadata": {
    "collapsed": true
   },
   "outputs": [],
   "source": [
    "import numpy as np\n",
    "import matplotlib.pyplot as plt\n",
    "%matplotlib inline\n",
    "import tensorflow as tf"
   ]
  },
  {
   "cell_type": "code",
   "execution_count": null,
   "metadata": {
    "collapsed": true
   },
   "outputs": [],
   "source": [
    "tf.reset_default_graph()\n",
    "\n",
    "# Turn on xla optimization\n",
    "config = tf.ConfigProto()\n",
    "config.graph_options.optimizer_options.global_jit_level = tf.OptimizerOptions.ON_1\n",
    "sess = tf.InteractiveSession(config=config)"
   ]
  },
  {
   "cell_type": "code",
   "execution_count": 3,
   "metadata": {
    "scrolled": true
   },
   "outputs": [
    {
     "name": "stdout",
     "output_type": "stream",
     "text": [
      "Extracting /tmp/mnistdata/train-images-idx3-ubyte.gz\n",
      "Extracting /tmp/mnistdata/train-labels-idx1-ubyte.gz\n",
      "Extracting /tmp/mnistdata/t10k-images-idx3-ubyte.gz\n",
      "Extracting /tmp/mnistdata/t10k-labels-idx1-ubyte.gz\n"
     ]
    }
   ],
   "source": [
    "from tensorflow.examples.tutorials.mnist import input_data\n",
    "mnist_data = input_data.read_data_sets('/tmp/mnistdata', validation_size=0)"
   ]
  },
  {
   "cell_type": "code",
   "execution_count": 4,
   "metadata": {
    "collapsed": true
   },
   "outputs": [],
   "source": [
    "images = tf.placeholder(tf.float32, [None, 784], 'images')\n",
    "labels = tf.placeholder(tf.int64, [None], 'labels')\n",
    "one_hot_labels = tf.one_hot(labels, 10)"
   ]
  },
  {
   "cell_type": "code",
   "execution_count": 5,
   "metadata": {
    "collapsed": true
   },
   "outputs": [],
   "source": [
    "layers = tf.contrib.layers\n",
    "ds = tf.contrib.distributions\n",
    "\n",
    "def encoder(images):\n",
    "    net = layers.relu(2*images-1, 1024)\n",
    "    net = layers.relu(net, 1024)\n",
    "    params = layers.linear(net, 512)\n",
    "    mu, rho = params[:, :256], params[:, 256:]\n",
    "    encoding = ds.NormalWithSoftplusScale(mu, rho - 5.0)\n",
    "    return encoding\n",
    "\n",
    "\n",
    "def decoder(encoding_sample):\n",
    "    net = layers.linear(encoding_sample, 10)\n",
    "    return net\n",
    "\n",
    "prior = ds.Normal(0.0, 1.0)"
   ]
  },
  {
   "cell_type": "code",
   "execution_count": 6,
   "metadata": {
    "collapsed": true
   },
   "outputs": [],
   "source": [
    "import math\n",
    "\n",
    "with tf.variable_scope('encoder'):\n",
    "    encoding = encoder(images)\n",
    "    \n",
    "with tf.variable_scope('decoder'):\n",
    "    logits = decoder(encoding.sample())\n",
    "    \n",
    "with tf.variable_scope('decoder', reuse=True):\n",
    "    many_logits = decoder(encoding.sample(12))\n",
    "\n",
    "class_loss = tf.losses.softmax_cross_entropy(\n",
    "    logits=logits, onehot_labels=one_hot_labels) / math.log(2)\n",
    "\n",
    "BETA = 1e-3\n",
    "\n",
    "info_loss = tf.reduce_sum(tf.reduce_mean(\n",
    "    ds.kl_divergence(encoding, prior), 0)) / math.log(2)\n",
    "\n",
    "total_loss = class_loss + BETA * info_loss"
   ]
  },
  {
   "cell_type": "code",
   "execution_count": 7,
   "metadata": {
    "collapsed": true
   },
   "outputs": [],
   "source": [
    "accuracy = tf.reduce_mean(tf.cast(tf.equal(\n",
    "    tf.argmax(logits, 1), labels), tf.float32))\n",
    "avg_accuracy = tf.reduce_mean(tf.cast(tf.equal(\n",
    "    tf.argmax(tf.reduce_mean(tf.nn.softmax(many_logits), 0), 1), labels), tf.float32))\n",
    "IZY_bound = math.log(10, 2) - class_loss\n",
    "IZX_bound = info_loss "
   ]
  },
  {
   "cell_type": "code",
   "execution_count": 8,
   "metadata": {
    "collapsed": true
   },
   "outputs": [],
   "source": [
    "batch_size = 100\n",
    "steps_per_batch = int(mnist_data.train.num_examples / batch_size)"
   ]
  },
  {
   "cell_type": "code",
   "execution_count": 9,
   "metadata": {
    "collapsed": true
   },
   "outputs": [],
   "source": [
    "global_step = tf.contrib.framework.get_or_create_global_step()\n",
    "learning_rate = tf.train.exponential_decay(1e-4, global_step,\n",
    "                                           decay_steps=2*steps_per_batch,\n",
    "                                           decay_rate=0.97, staircase=True)\n",
    "opt = tf.train.AdamOptimizer(learning_rate, 0.5)\n",
    "\n",
    "ma = tf.train.ExponentialMovingAverage(0.999, zero_debias=True)\n",
    "ma_update = ma.apply(tf.model_variables())\n",
    "\n",
    "saver = tf.train.Saver()\n",
    "saver_polyak = tf.train.Saver(ma.variables_to_restore())\n",
    "\n",
    "train_tensor = tf.contrib.training.create_train_op(total_loss, opt,\n",
    "                                                   global_step,\n",
    "                                                   update_ops=[ma_update])"
   ]
  },
  {
   "cell_type": "code",
   "execution_count": 10,
   "metadata": {
    "collapsed": true
   },
   "outputs": [],
   "source": [
    "tf.global_variables_initializer().run()"
   ]
  },
  {
   "cell_type": "code",
   "execution_count": 11,
   "metadata": {
    "collapsed": true
   },
   "outputs": [],
   "source": [
    "def evaluate():\n",
    "    IZY, IZX, acc, avg_acc = sess.run([IZY_bound, IZX_bound, accuracy, avg_accuracy],\n",
    "                             feed_dict={images: mnist_data.test.images, labels: mnist_data.test.labels})\n",
    "    return IZY, IZX, acc, avg_acc, 1-acc, 1-avg_acc"
   ]
  },
  {
   "cell_type": "code",
   "execution_count": 12,
   "metadata": {},
   "outputs": [
    {
     "name": "stdout",
     "output_type": "stream",
     "text": [
      "0: IZY=2.98\tIZX=134.31\tacc=0.9232\tavg_acc=0.9379\terr=0.0768\tavg_err=0.0621\n",
      "1: IZY=3.09\tIZX=93.38\tacc=0.9489\tavg_acc=0.9604\terr=0.0511\tavg_err=0.0396\n",
      "2: IZY=3.14\tIZX=81.95\tacc=0.9600\tavg_acc=0.9708\terr=0.0400\tavg_err=0.0292\n",
      "3: IZY=3.15\tIZX=85.19\tacc=0.9636\tavg_acc=0.9730\terr=0.0364\tavg_err=0.0270\n",
      "4: IZY=3.19\tIZX=80.84\tacc=0.9724\tavg_acc=0.9769\terr=0.0276\tavg_err=0.0231\n",
      "5: IZY=3.17\tIZX=86.21\tacc=0.9694\tavg_acc=0.9733\terr=0.0306\tavg_err=0.0267\n",
      "6: IZY=3.19\tIZX=71.26\tacc=0.9718\tavg_acc=0.9782\terr=0.0282\tavg_err=0.0218\n",
      "7: IZY=3.19\tIZX=67.85\tacc=0.9733\tavg_acc=0.9780\terr=0.0267\tavg_err=0.0220\n",
      "8: IZY=3.21\tIZX=69.18\tacc=0.9746\tavg_acc=0.9793\terr=0.0254\tavg_err=0.0207\n",
      "9: IZY=3.21\tIZX=63.90\tacc=0.9756\tavg_acc=0.9813\terr=0.0244\tavg_err=0.0187\n",
      "10: IZY=3.21\tIZX=68.74\tacc=0.9776\tavg_acc=0.9815\terr=0.0224\tavg_err=0.0185\n",
      "11: IZY=3.21\tIZX=58.74\tacc=0.9747\tavg_acc=0.9812\terr=0.0253\tavg_err=0.0188\n",
      "12: IZY=3.21\tIZX=60.24\tacc=0.9767\tavg_acc=0.9806\terr=0.0233\tavg_err=0.0194\n",
      "13: IZY=3.21\tIZX=64.56\tacc=0.9761\tavg_acc=0.9824\terr=0.0239\tavg_err=0.0176\n",
      "14: IZY=3.22\tIZX=58.43\tacc=0.9795\tavg_acc=0.9837\terr=0.0205\tavg_err=0.0163\n",
      "15: IZY=3.23\tIZX=52.01\tacc=0.9816\tavg_acc=0.9850\terr=0.0184\tavg_err=0.0150\n",
      "16: IZY=3.22\tIZX=53.52\tacc=0.9788\tavg_acc=0.9841\terr=0.0212\tavg_err=0.0159\n",
      "17: IZY=3.21\tIZX=53.97\tacc=0.9773\tavg_acc=0.9826\terr=0.0227\tavg_err=0.0174\n",
      "18: IZY=3.21\tIZX=53.18\tacc=0.9781\tavg_acc=0.9835\terr=0.0219\tavg_err=0.0165\n",
      "19: IZY=3.22\tIZX=52.19\tacc=0.9799\tavg_acc=0.9854\terr=0.0201\tavg_err=0.0146\n",
      "20: IZY=3.21\tIZX=46.49\tacc=0.9792\tavg_acc=0.9848\terr=0.0208\tavg_err=0.0152\n",
      "21: IZY=3.22\tIZX=46.71\tacc=0.9798\tavg_acc=0.9840\terr=0.0202\tavg_err=0.0160\n",
      "22: IZY=3.22\tIZX=42.68\tacc=0.9793\tavg_acc=0.9855\terr=0.0207\tavg_err=0.0145\n",
      "23: IZY=3.21\tIZX=43.74\tacc=0.9802\tavg_acc=0.9837\terr=0.0198\tavg_err=0.0163\n",
      "24: IZY=3.21\tIZX=43.08\tacc=0.9789\tavg_acc=0.9851\terr=0.0211\tavg_err=0.0149\n",
      "25: IZY=3.20\tIZX=43.60\tacc=0.9765\tavg_acc=0.9830\terr=0.0235\tavg_err=0.0170\n",
      "26: IZY=3.21\tIZX=42.58\tacc=0.9783\tavg_acc=0.9845\terr=0.0217\tavg_err=0.0155\n",
      "27: IZY=3.21\tIZX=41.22\tacc=0.9791\tavg_acc=0.9836\terr=0.0209\tavg_err=0.0164\n",
      "28: IZY=3.21\tIZX=39.41\tacc=0.9783\tavg_acc=0.9843\terr=0.0217\tavg_err=0.0157\n",
      "29: IZY=3.21\tIZX=40.72\tacc=0.9803\tavg_acc=0.9856\terr=0.0197\tavg_err=0.0144\n",
      "30: IZY=3.22\tIZX=43.23\tacc=0.9811\tavg_acc=0.9856\terr=0.0189\tavg_err=0.0144\n",
      "31: IZY=3.21\tIZX=39.93\tacc=0.9808\tavg_acc=0.9834\terr=0.0192\tavg_err=0.0166\n",
      "32: IZY=3.22\tIZX=37.22\tacc=0.9806\tavg_acc=0.9858\terr=0.0194\tavg_err=0.0142\n",
      "33: IZY=3.21\tIZX=36.83\tacc=0.9797\tavg_acc=0.9832\terr=0.0203\tavg_err=0.0168\n",
      "34: IZY=3.22\tIZX=44.19\tacc=0.9797\tavg_acc=0.9847\terr=0.0203\tavg_err=0.0153\n",
      "35: IZY=3.21\tIZX=35.12\tacc=0.9786\tavg_acc=0.9859\terr=0.0214\tavg_err=0.0141\n",
      "36: IZY=3.20\tIZX=36.66\tacc=0.9795\tavg_acc=0.9843\terr=0.0205\tavg_err=0.0157\n",
      "37: IZY=3.22\tIZX=34.95\tacc=0.9810\tavg_acc=0.9853\terr=0.0190\tavg_err=0.0147\n",
      "38: IZY=3.21\tIZX=35.13\tacc=0.9800\tavg_acc=0.9841\terr=0.0200\tavg_err=0.0159\n",
      "39: IZY=3.21\tIZX=38.69\tacc=0.9810\tavg_acc=0.9858\terr=0.0190\tavg_err=0.0142\n",
      "40: IZY=3.21\tIZX=37.89\tacc=0.9806\tavg_acc=0.9855\terr=0.0194\tavg_err=0.0145\n",
      "41: IZY=3.22\tIZX=37.39\tacc=0.9821\tavg_acc=0.9858\terr=0.0179\tavg_err=0.0142\n",
      "42: IZY=3.21\tIZX=34.88\tacc=0.9802\tavg_acc=0.9854\terr=0.0198\tavg_err=0.0146\n",
      "43: IZY=3.22\tIZX=34.78\tacc=0.9806\tavg_acc=0.9861\terr=0.0194\tavg_err=0.0139\n",
      "44: IZY=3.22\tIZX=32.80\tacc=0.9809\tavg_acc=0.9864\terr=0.0191\tavg_err=0.0136\n",
      "45: IZY=3.20\tIZX=35.10\tacc=0.9787\tavg_acc=0.9861\terr=0.0213\tavg_err=0.0139\n",
      "46: IZY=3.21\tIZX=31.98\tacc=0.9798\tavg_acc=0.9866\terr=0.0202\tavg_err=0.0134\n",
      "47: IZY=3.21\tIZX=32.49\tacc=0.9812\tavg_acc=0.9862\terr=0.0188\tavg_err=0.0138\n",
      "48: IZY=3.19\tIZX=32.02\tacc=0.9786\tavg_acc=0.9841\terr=0.0214\tavg_err=0.0159\n",
      "49: IZY=3.21\tIZX=29.33\tacc=0.9801\tavg_acc=0.9854\terr=0.0199\tavg_err=0.0146\n",
      "50: IZY=3.21\tIZX=31.99\tacc=0.9795\tavg_acc=0.9851\terr=0.0205\tavg_err=0.0149\n",
      "51: IZY=3.22\tIZX=32.15\tacc=0.9818\tavg_acc=0.9856\terr=0.0182\tavg_err=0.0144\n",
      "52: IZY=3.21\tIZX=30.44\tacc=0.9813\tavg_acc=0.9853\terr=0.0187\tavg_err=0.0147\n",
      "53: IZY=3.22\tIZX=34.42\tacc=0.9816\tavg_acc=0.9861\terr=0.0184\tavg_err=0.0139\n",
      "54: IZY=3.21\tIZX=33.24\tacc=0.9808\tavg_acc=0.9859\terr=0.0192\tavg_err=0.0141\n",
      "55: IZY=3.21\tIZX=30.49\tacc=0.9797\tavg_acc=0.9863\terr=0.0203\tavg_err=0.0137\n",
      "56: IZY=3.22\tIZX=39.14\tacc=0.9824\tavg_acc=0.9859\terr=0.0176\tavg_err=0.0141\n",
      "57: IZY=3.21\tIZX=35.41\tacc=0.9815\tavg_acc=0.9842\terr=0.0185\tavg_err=0.0158\n",
      "58: IZY=3.20\tIZX=30.61\tacc=0.9808\tavg_acc=0.9858\terr=0.0192\tavg_err=0.0142\n",
      "59: IZY=3.22\tIZX=27.66\tacc=0.9835\tavg_acc=0.9883\terr=0.0165\tavg_err=0.0117\n",
      "60: IZY=3.21\tIZX=28.74\tacc=0.9816\tavg_acc=0.9874\terr=0.0184\tavg_err=0.0126\n",
      "61: IZY=3.20\tIZX=29.98\tacc=0.9796\tavg_acc=0.9843\terr=0.0204\tavg_err=0.0157\n",
      "62: IZY=3.21\tIZX=28.32\tacc=0.9822\tavg_acc=0.9864\terr=0.0178\tavg_err=0.0136\n",
      "63: IZY=3.21\tIZX=31.28\tacc=0.9809\tavg_acc=0.9859\terr=0.0191\tavg_err=0.0141\n",
      "64: IZY=3.21\tIZX=31.78\tacc=0.9800\tavg_acc=0.9865\terr=0.0200\tavg_err=0.0135\n",
      "65: IZY=3.22\tIZX=28.40\tacc=0.9829\tavg_acc=0.9865\terr=0.0171\tavg_err=0.0135\n",
      "66: IZY=3.21\tIZX=29.26\tacc=0.9824\tavg_acc=0.9863\terr=0.0176\tavg_err=0.0137\n",
      "67: IZY=3.20\tIZX=30.14\tacc=0.9798\tavg_acc=0.9858\terr=0.0202\tavg_err=0.0142\n",
      "68: IZY=3.22\tIZX=31.19\tacc=0.9841\tavg_acc=0.9877\terr=0.0159\tavg_err=0.0123\n",
      "69: IZY=3.21\tIZX=30.68\tacc=0.9808\tavg_acc=0.9850\terr=0.0192\tavg_err=0.0150\n",
      "70: IZY=3.22\tIZX=32.82\tacc=0.9833\tavg_acc=0.9862\terr=0.0167\tavg_err=0.0138\n",
      "71: IZY=3.21\tIZX=26.25\tacc=0.9822\tavg_acc=0.9861\terr=0.0178\tavg_err=0.0139\n",
      "72: IZY=3.21\tIZX=29.62\tacc=0.9806\tavg_acc=0.9859\terr=0.0194\tavg_err=0.0141\n",
      "73: IZY=3.20\tIZX=29.12\tacc=0.9818\tavg_acc=0.9856\terr=0.0182\tavg_err=0.0144\n",
      "74: IZY=3.22\tIZX=33.79\tacc=0.9825\tavg_acc=0.9860\terr=0.0175\tavg_err=0.0140\n",
      "75: IZY=3.23\tIZX=28.81\tacc=0.9836\tavg_acc=0.9870\terr=0.0164\tavg_err=0.0130\n",
      "76: IZY=3.22\tIZX=27.36\tacc=0.9830\tavg_acc=0.9875\terr=0.0170\tavg_err=0.0125\n",
      "77: IZY=3.21\tIZX=27.65\tacc=0.9816\tavg_acc=0.9864\terr=0.0184\tavg_err=0.0136\n",
      "78: IZY=3.21\tIZX=27.89\tacc=0.9816\tavg_acc=0.9862\terr=0.0184\tavg_err=0.0138\n",
      "79: IZY=3.20\tIZX=27.63\tacc=0.9817\tavg_acc=0.9859\terr=0.0183\tavg_err=0.0141\n",
      "80: IZY=3.21\tIZX=29.70\tacc=0.9812\tavg_acc=0.9848\terr=0.0188\tavg_err=0.0152\n",
      "81: IZY=3.21\tIZX=27.22\tacc=0.9811\tavg_acc=0.9875\terr=0.0189\tavg_err=0.0125\n",
      "82: IZY=3.20\tIZX=26.89\tacc=0.9802\tavg_acc=0.9852\terr=0.0198\tavg_err=0.0148\n",
      "83: IZY=3.21\tIZX=28.30\tacc=0.9814\tavg_acc=0.9864\terr=0.0186\tavg_err=0.0136\n",
      "84: IZY=3.22\tIZX=26.40\tacc=0.9839\tavg_acc=0.9871\terr=0.0161\tavg_err=0.0129\n",
      "85: IZY=3.22\tIZX=26.79\tacc=0.9830\tavg_acc=0.9869\terr=0.0170\tavg_err=0.0131\n",
      "86: IZY=3.20\tIZX=25.76\tacc=0.9819\tavg_acc=0.9860\terr=0.0181\tavg_err=0.0140\n",
      "87: IZY=3.21\tIZX=26.34\tacc=0.9817\tavg_acc=0.9868\terr=0.0183\tavg_err=0.0132\n",
      "88: IZY=3.22\tIZX=25.49\tacc=0.9827\tavg_acc=0.9879\terr=0.0173\tavg_err=0.0121\n",
      "89: IZY=3.22\tIZX=24.80\tacc=0.9820\tavg_acc=0.9864\terr=0.0180\tavg_err=0.0136\n",
      "90: IZY=3.21\tIZX=25.48\tacc=0.9822\tavg_acc=0.9868\terr=0.0178\tavg_err=0.0132\n",
      "91: IZY=3.19\tIZX=27.00\tacc=0.9805\tavg_acc=0.9858\terr=0.0195\tavg_err=0.0142\n",
      "92: IZY=3.21\tIZX=26.38\tacc=0.9825\tavg_acc=0.9868\terr=0.0175\tavg_err=0.0132\n",
      "93: IZY=3.21\tIZX=26.08\tacc=0.9815\tavg_acc=0.9868\terr=0.0185\tavg_err=0.0132\n",
      "94: IZY=3.22\tIZX=25.39\tacc=0.9836\tavg_acc=0.9875\terr=0.0164\tavg_err=0.0125\n",
      "95: IZY=3.21\tIZX=27.15\tacc=0.9825\tavg_acc=0.9866\terr=0.0175\tavg_err=0.0134\n",
      "96: IZY=3.21\tIZX=25.98\tacc=0.9811\tavg_acc=0.9863\terr=0.0189\tavg_err=0.0137\n",
      "97: IZY=3.21\tIZX=25.76\tacc=0.9817\tavg_acc=0.9871\terr=0.0183\tavg_err=0.0129\n",
      "98: IZY=3.21\tIZX=26.34\tacc=0.9831\tavg_acc=0.9867\terr=0.0169\tavg_err=0.0133\n",
      "99: IZY=3.22\tIZX=25.14\tacc=0.9821\tavg_acc=0.9868\terr=0.0179\tavg_err=0.0132\n",
      "100: IZY=3.20\tIZX=25.33\tacc=0.9818\tavg_acc=0.9871\terr=0.0182\tavg_err=0.0129\n",
      "101: IZY=3.20\tIZX=25.29\tacc=0.9790\tavg_acc=0.9855\terr=0.0210\tavg_err=0.0145\n",
      "102: IZY=3.23\tIZX=30.76\tacc=0.9845\tavg_acc=0.9870\terr=0.0155\tavg_err=0.0130\n",
      "103: IZY=3.20\tIZX=25.66\tacc=0.9813\tavg_acc=0.9863\terr=0.0187\tavg_err=0.0137\n",
      "104: IZY=3.21\tIZX=25.22\tacc=0.9823\tavg_acc=0.9863\terr=0.0177\tavg_err=0.0137\n",
      "105: IZY=3.20\tIZX=24.97\tacc=0.9817\tavg_acc=0.9868\terr=0.0183\tavg_err=0.0132\n",
      "106: IZY=3.21\tIZX=24.26\tacc=0.9821\tavg_acc=0.9870\terr=0.0179\tavg_err=0.0130\n",
      "107: IZY=3.20\tIZX=24.67\tacc=0.9802\tavg_acc=0.9873\terr=0.0198\tavg_err=0.0127\n",
      "108: IZY=3.22\tIZX=25.68\tacc=0.9840\tavg_acc=0.9874\terr=0.0160\tavg_err=0.0126\n",
      "109: IZY=3.21\tIZX=24.65\tacc=0.9826\tavg_acc=0.9869\terr=0.0174\tavg_err=0.0131\n"
     ]
    },
    {
     "name": "stdout",
     "output_type": "stream",
     "text": [
      "110: IZY=3.21\tIZX=25.31\tacc=0.9815\tavg_acc=0.9867\terr=0.0185\tavg_err=0.0133\n",
      "111: IZY=3.21\tIZX=24.20\tacc=0.9820\tavg_acc=0.9866\terr=0.0180\tavg_err=0.0134\n",
      "112: IZY=3.21\tIZX=24.25\tacc=0.9818\tavg_acc=0.9860\terr=0.0182\tavg_err=0.0140\n",
      "113: IZY=3.21\tIZX=26.17\tacc=0.9821\tavg_acc=0.9871\terr=0.0179\tavg_err=0.0129\n",
      "114: IZY=3.22\tIZX=24.54\tacc=0.9818\tavg_acc=0.9866\terr=0.0182\tavg_err=0.0134\n",
      "115: IZY=3.21\tIZX=24.21\tacc=0.9811\tavg_acc=0.9874\terr=0.0189\tavg_err=0.0126\n",
      "116: IZY=3.20\tIZX=25.15\tacc=0.9814\tavg_acc=0.9869\terr=0.0186\tavg_err=0.0131\n",
      "117: IZY=3.21\tIZX=23.58\tacc=0.9822\tavg_acc=0.9880\terr=0.0178\tavg_err=0.0120\n",
      "118: IZY=3.21\tIZX=24.28\tacc=0.9833\tavg_acc=0.9865\terr=0.0167\tavg_err=0.0135\n",
      "119: IZY=3.22\tIZX=25.01\tacc=0.9831\tavg_acc=0.9867\terr=0.0169\tavg_err=0.0133\n",
      "120: IZY=3.21\tIZX=23.58\tacc=0.9829\tavg_acc=0.9865\terr=0.0171\tavg_err=0.0135\n",
      "121: IZY=3.21\tIZX=24.13\tacc=0.9811\tavg_acc=0.9868\terr=0.0189\tavg_err=0.0132\n",
      "122: IZY=3.21\tIZX=24.14\tacc=0.9829\tavg_acc=0.9871\terr=0.0171\tavg_err=0.0129\n",
      "123: IZY=3.19\tIZX=23.45\tacc=0.9808\tavg_acc=0.9867\terr=0.0192\tavg_err=0.0133\n",
      "124: IZY=3.21\tIZX=23.05\tacc=0.9838\tavg_acc=0.9877\terr=0.0162\tavg_err=0.0123\n",
      "125: IZY=3.22\tIZX=24.27\tacc=0.9829\tavg_acc=0.9865\terr=0.0171\tavg_err=0.0135\n",
      "126: IZY=3.22\tIZX=24.36\tacc=0.9816\tavg_acc=0.9862\terr=0.0184\tavg_err=0.0138\n",
      "127: IZY=3.22\tIZX=24.49\tacc=0.9828\tavg_acc=0.9875\terr=0.0172\tavg_err=0.0125\n",
      "128: IZY=3.21\tIZX=23.89\tacc=0.9821\tavg_acc=0.9869\terr=0.0179\tavg_err=0.0131\n",
      "129: IZY=3.21\tIZX=23.12\tacc=0.9831\tavg_acc=0.9873\terr=0.0169\tavg_err=0.0127\n",
      "130: IZY=3.21\tIZX=23.33\tacc=0.9814\tavg_acc=0.9866\terr=0.0186\tavg_err=0.0134\n",
      "131: IZY=3.21\tIZX=24.27\tacc=0.9821\tavg_acc=0.9871\terr=0.0179\tavg_err=0.0129\n",
      "132: IZY=3.21\tIZX=23.35\tacc=0.9812\tavg_acc=0.9871\terr=0.0188\tavg_err=0.0129\n",
      "133: IZY=3.21\tIZX=23.17\tacc=0.9805\tavg_acc=0.9871\terr=0.0195\tavg_err=0.0129\n",
      "134: IZY=3.22\tIZX=24.43\tacc=0.9833\tavg_acc=0.9868\terr=0.0167\tavg_err=0.0132\n",
      "135: IZY=3.21\tIZX=23.90\tacc=0.9820\tavg_acc=0.9871\terr=0.0180\tavg_err=0.0129\n",
      "136: IZY=3.21\tIZX=23.15\tacc=0.9813\tavg_acc=0.9866\terr=0.0187\tavg_err=0.0134\n",
      "137: IZY=3.21\tIZX=24.14\tacc=0.9834\tavg_acc=0.9866\terr=0.0166\tavg_err=0.0134\n",
      "138: IZY=3.21\tIZX=25.69\tacc=0.9817\tavg_acc=0.9867\terr=0.0183\tavg_err=0.0133\n",
      "139: IZY=3.21\tIZX=23.74\tacc=0.9838\tavg_acc=0.9870\terr=0.0162\tavg_err=0.0130\n",
      "140: IZY=3.22\tIZX=23.86\tacc=0.9820\tavg_acc=0.9876\terr=0.0180\tavg_err=0.0124\n",
      "141: IZY=3.21\tIZX=23.55\tacc=0.9826\tavg_acc=0.9879\terr=0.0174\tavg_err=0.0121\n",
      "142: IZY=3.21\tIZX=22.96\tacc=0.9826\tavg_acc=0.9873\terr=0.0174\tavg_err=0.0127\n",
      "143: IZY=3.21\tIZX=23.58\tacc=0.9826\tavg_acc=0.9868\terr=0.0174\tavg_err=0.0132\n",
      "144: IZY=3.21\tIZX=23.05\tacc=0.9824\tavg_acc=0.9861\terr=0.0176\tavg_err=0.0139\n",
      "145: IZY=3.21\tIZX=22.97\tacc=0.9826\tavg_acc=0.9874\terr=0.0174\tavg_err=0.0126\n",
      "146: IZY=3.20\tIZX=23.10\tacc=0.9807\tavg_acc=0.9874\terr=0.0193\tavg_err=0.0126\n",
      "147: IZY=3.22\tIZX=23.42\tacc=0.9836\tavg_acc=0.9878\terr=0.0164\tavg_err=0.0122\n",
      "148: IZY=3.21\tIZX=23.05\tacc=0.9819\tavg_acc=0.9878\terr=0.0181\tavg_err=0.0122\n",
      "149: IZY=3.21\tIZX=24.14\tacc=0.9824\tavg_acc=0.9860\terr=0.0176\tavg_err=0.0140\n",
      "150: IZY=3.19\tIZX=21.93\tacc=0.9813\tavg_acc=0.9859\terr=0.0187\tavg_err=0.0141\n",
      "151: IZY=3.20\tIZX=23.51\tacc=0.9830\tavg_acc=0.9873\terr=0.0170\tavg_err=0.0127\n",
      "152: IZY=3.21\tIZX=23.55\tacc=0.9822\tavg_acc=0.9874\terr=0.0178\tavg_err=0.0126\n",
      "153: IZY=3.22\tIZX=22.39\tacc=0.9835\tavg_acc=0.9865\terr=0.0165\tavg_err=0.0135\n",
      "154: IZY=3.21\tIZX=22.82\tacc=0.9813\tavg_acc=0.9872\terr=0.0187\tavg_err=0.0128\n",
      "155: IZY=3.20\tIZX=22.58\tacc=0.9809\tavg_acc=0.9862\terr=0.0191\tavg_err=0.0138\n",
      "156: IZY=3.21\tIZX=23.32\tacc=0.9820\tavg_acc=0.9862\terr=0.0180\tavg_err=0.0138\n",
      "157: IZY=3.21\tIZX=22.83\tacc=0.9820\tavg_acc=0.9868\terr=0.0180\tavg_err=0.0132\n",
      "158: IZY=3.20\tIZX=23.31\tacc=0.9814\tavg_acc=0.9872\terr=0.0186\tavg_err=0.0128\n",
      "159: IZY=3.19\tIZX=22.82\tacc=0.9796\tavg_acc=0.9864\terr=0.0204\tavg_err=0.0136\n",
      "160: IZY=3.19\tIZX=22.57\tacc=0.9806\tavg_acc=0.9863\terr=0.0194\tavg_err=0.0137\n",
      "161: IZY=3.20\tIZX=23.24\tacc=0.9807\tavg_acc=0.9858\terr=0.0193\tavg_err=0.0142\n",
      "162: IZY=3.21\tIZX=23.01\tacc=0.9824\tavg_acc=0.9870\terr=0.0176\tavg_err=0.0130\n",
      "163: IZY=3.22\tIZX=23.22\tacc=0.9829\tavg_acc=0.9873\terr=0.0171\tavg_err=0.0127\n",
      "164: IZY=3.20\tIZX=22.74\tacc=0.9819\tavg_acc=0.9879\terr=0.0181\tavg_err=0.0121\n",
      "165: IZY=3.20\tIZX=22.56\tacc=0.9814\tavg_acc=0.9873\terr=0.0186\tavg_err=0.0127\n",
      "166: IZY=3.21\tIZX=22.58\tacc=0.9829\tavg_acc=0.9868\terr=0.0171\tavg_err=0.0132\n",
      "167: IZY=3.20\tIZX=22.46\tacc=0.9813\tavg_acc=0.9882\terr=0.0187\tavg_err=0.0118\n",
      "168: IZY=3.21\tIZX=22.42\tacc=0.9819\tavg_acc=0.9877\terr=0.0181\tavg_err=0.0123\n",
      "169: IZY=3.21\tIZX=23.12\tacc=0.9827\tavg_acc=0.9883\terr=0.0173\tavg_err=0.0117\n",
      "170: IZY=3.21\tIZX=22.26\tacc=0.9815\tavg_acc=0.9872\terr=0.0185\tavg_err=0.0128\n",
      "171: IZY=3.21\tIZX=22.69\tacc=0.9826\tavg_acc=0.9869\terr=0.0174\tavg_err=0.0131\n",
      "172: IZY=3.21\tIZX=23.06\tacc=0.9824\tavg_acc=0.9868\terr=0.0176\tavg_err=0.0132\n",
      "173: IZY=3.19\tIZX=22.28\tacc=0.9808\tavg_acc=0.9874\terr=0.0192\tavg_err=0.0126\n",
      "174: IZY=3.21\tIZX=22.70\tacc=0.9840\tavg_acc=0.9869\terr=0.0160\tavg_err=0.0131\n",
      "175: IZY=3.21\tIZX=22.29\tacc=0.9827\tavg_acc=0.9861\terr=0.0173\tavg_err=0.0139\n",
      "176: IZY=3.20\tIZX=21.96\tacc=0.9821\tavg_acc=0.9870\terr=0.0179\tavg_err=0.0130\n",
      "177: IZY=3.21\tIZX=22.59\tacc=0.9828\tavg_acc=0.9871\terr=0.0172\tavg_err=0.0129\n",
      "178: IZY=3.21\tIZX=22.16\tacc=0.9822\tavg_acc=0.9872\terr=0.0178\tavg_err=0.0128\n",
      "179: IZY=3.21\tIZX=22.66\tacc=0.9827\tavg_acc=0.9870\terr=0.0173\tavg_err=0.0130\n",
      "180: IZY=3.20\tIZX=22.30\tacc=0.9813\tavg_acc=0.9873\terr=0.0187\tavg_err=0.0127\n",
      "181: IZY=3.20\tIZX=22.53\tacc=0.9811\tavg_acc=0.9873\terr=0.0189\tavg_err=0.0127\n",
      "182: IZY=3.20\tIZX=22.65\tacc=0.9812\tavg_acc=0.9870\terr=0.0188\tavg_err=0.0130\n",
      "183: IZY=3.18\tIZX=22.23\tacc=0.9803\tavg_acc=0.9869\terr=0.0197\tavg_err=0.0131\n",
      "184: IZY=3.20\tIZX=23.18\tacc=0.9807\tavg_acc=0.9869\terr=0.0193\tavg_err=0.0131\n",
      "185: IZY=3.21\tIZX=22.29\tacc=0.9825\tavg_acc=0.9868\terr=0.0175\tavg_err=0.0132\n",
      "186: IZY=3.20\tIZX=22.44\tacc=0.9811\tavg_acc=0.9871\terr=0.0189\tavg_err=0.0129\n",
      "187: IZY=3.22\tIZX=22.11\tacc=0.9833\tavg_acc=0.9868\terr=0.0167\tavg_err=0.0132\n",
      "188: IZY=3.21\tIZX=22.96\tacc=0.9835\tavg_acc=0.9873\terr=0.0165\tavg_err=0.0127\n",
      "189: IZY=3.21\tIZX=22.27\tacc=0.9827\tavg_acc=0.9868\terr=0.0173\tavg_err=0.0132\n",
      "190: IZY=3.20\tIZX=21.80\tacc=0.9807\tavg_acc=0.9865\terr=0.0193\tavg_err=0.0135\n",
      "191: IZY=3.20\tIZX=22.16\tacc=0.9819\tavg_acc=0.9868\terr=0.0181\tavg_err=0.0132\n",
      "192: IZY=3.20\tIZX=21.78\tacc=0.9805\tavg_acc=0.9867\terr=0.0195\tavg_err=0.0133\n",
      "193: IZY=3.20\tIZX=22.49\tacc=0.9821\tavg_acc=0.9875\terr=0.0179\tavg_err=0.0125\n",
      "194: IZY=3.20\tIZX=22.39\tacc=0.9806\tavg_acc=0.9865\terr=0.0194\tavg_err=0.0135\n",
      "195: IZY=3.20\tIZX=21.89\tacc=0.9813\tavg_acc=0.9871\terr=0.0187\tavg_err=0.0129\n",
      "196: IZY=3.21\tIZX=22.30\tacc=0.9822\tavg_acc=0.9863\terr=0.0178\tavg_err=0.0137\n",
      "197: IZY=3.21\tIZX=22.18\tacc=0.9825\tavg_acc=0.9871\terr=0.0175\tavg_err=0.0129\n",
      "198: IZY=3.20\tIZX=21.70\tacc=0.9813\tavg_acc=0.9874\terr=0.0187\tavg_err=0.0126\n",
      "199: IZY=3.20\tIZX=22.22\tacc=0.9816\tavg_acc=0.9873\terr=0.0184\tavg_err=0.0127\n"
     ]
    }
   ],
   "source": [
    "import sys\n",
    "\n",
    "for epoch in range(200):\n",
    "    for step in range(steps_per_batch):\n",
    "        im, ls = mnist_data.train.next_batch(batch_size)\n",
    "        sess.run(train_tensor, feed_dict={images: im, labels: ls})\n",
    "    print \"{}: IZY={:.2f}\\tIZX={:.2f}\\tacc={:.4f}\\tavg_acc={:.4f}\\terr={:.4f}\\tavg_err={:.4f}\".format(\n",
    "        epoch, *evaluate())\n",
    "    sys.stdout.flush()\n",
    "    \n",
    "savepth = saver.save(sess, '/tmp/mnistvib', global_step)"
   ]
  },
  {
   "cell_type": "code",
   "execution_count": 13,
   "metadata": {},
   "outputs": [
    {
     "name": "stdout",
     "output_type": "stream",
     "text": [
      "INFO:tensorflow:Restoring parameters from /tmp/mnistvib-120000\n"
     ]
    },
    {
     "data": {
      "text/plain": [
       "(3.2056963,\n",
       " 22.165133,\n",
       " 0.98189998,\n",
       " 0.98789996,\n",
       " 0.01810002326965332,\n",
       " 0.012100040912628174)"
      ]
     },
     "execution_count": 13,
     "metadata": {},
     "output_type": "execute_result"
    }
   ],
   "source": [
    "saver_polyak.restore(sess, savepth)\n",
    "evaluate()"
   ]
  },
  {
   "cell_type": "code",
   "execution_count": 14,
   "metadata": {},
   "outputs": [
    {
     "name": "stdout",
     "output_type": "stream",
     "text": [
      "INFO:tensorflow:Restoring parameters from /tmp/mnistvib-120000\n"
     ]
    },
    {
     "data": {
      "text/plain": [
       "(3.2040105,\n",
       " 22.224438,\n",
       " 0.98229998,\n",
       " 0.98579997,\n",
       " 0.017700016498565674,\n",
       " 0.014200031757354736)"
      ]
     },
     "execution_count": 14,
     "metadata": {},
     "output_type": "execute_result"
    }
   ],
   "source": [
    "saver.restore(sess, savepth)\n",
    "evaluate()"
   ]
  }
 ],
 "metadata": {
  "kernelspec": {
   "display_name": "Python 3",
   "language": "python",
   "name": "python3"
  },
  "language_info": {
   "codemirror_mode": {
    "name": "ipython",
    "version": 3
   },
   "file_extension": ".py",
   "mimetype": "text/x-python",
   "name": "python",
   "nbconvert_exporter": "python",
   "pygments_lexer": "ipython3",
   "version": "3.5.4"
  }
 },
 "nbformat": 4,
 "nbformat_minor": 2
}
